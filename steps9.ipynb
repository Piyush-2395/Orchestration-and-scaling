{
 "cells": [
  {
   "cell_type": "code",
   "execution_count": null,
   "metadata": {},
   "outputs": [],
   "source": [
    "import boto3\n",
    "\n",
    "# Initialize EC2 client\n",
    "ec2 = boto3.resource('ec2', region_name='ap-northeast-2')\n",
    "\n",
    "# Define the instance creation\n",
    "def create_ec2_instance():\n",
    "    # UserData script to install Docker, login to ECR, pull image, and run container\n",
    "    user_data_script = '''#!/bin/bash\n",
    "    sudo apt-get update -y\n",
    "    sudo apt-get install -y docker.io\n",
    "    sudo systemctl start docker\n",
    "    sudo systemctl enable docker\n",
    "    sudo apt-get install -y awscli jq\n",
    "    $(aws ecr get-login-password --region ap-northeast-2 | sudo docker login --username AWS --password-stdin 975050024946.dkr.ecr.ap-northeast-2.amazonaws.com)\n",
    "    sudo docker pull 975050024946.dkr.ecr.ap-northeast-2.amazonaws.com/microprofile:latest\n",
    "    sudo docker run -d -p 3000:3000 975050024946.dkr.ecr.ap-northeast-2.amazonaws.com/microprofile:latest\n",
    "    '''\n",
    "    instance = ec2.create_instances(\n",
    "        InstanceType='t2.micro',        \n",
    "        KeyName='ChrisEvans',        \n",
    "        MinCount=1,\n",
    "        MaxCount=1,\n",
    "        SecurityGroupIds=['sg-0fa22de49c689a551'], \n",
    "        UserData=user_data_script,         \n",
    "        TagSpecifications=[\n",
    "            {\n",
    "                'ResourceType': 'instance',\n",
    "                'Tags': [\n",
    "                    {'Key': 'Name', 'Value': 'micromernfrontend'}\n",
    "                ]\n",
    "            }\n",
    "        ]\n",
    "    )\n",
    "    print(f\"Instance created with ID: {instance[0].id}\")\n",
    "\n",
    "create_ec2_instance()\n"
   ]
  }
 ],
 "metadata": {
  "language_info": {
   "name": "python"
  }
 },
 "nbformat": 4,
 "nbformat_minor": 2
}
